{
 "cells": [
  {
   "cell_type": "markdown",
   "metadata": {},
   "source": [
    "## EMR Cluster\n",
    "\n",
    "Define master node:\n",
    "\n",
    "```\n",
    "export EMR_MASTER_NODE=ec2-34-248-11-140.eu-west-1.compute.amazonaws.com\n",
    "```\n",
    "\n",
    "SSH access to master node:\n",
    "\n",
    "```\n",
    "ssh -i ~/.ssh/emr.pemhadoop@$EMR_MASTER_NODE\n",
    "```\n",
    "\n",
    "SSH tunnel to master node for web app access:\n",
    "\n",
    "```\n",
    "ssh -i ~/.ssh/emr.pem -ND 8157 hadoop@$EMR_MASTER_NODE\n",
    "```\n",
    "\n",
    "URLs of web apps: https://docs.aws.amazon.com/emr/latest/ManagementGuide/emr-web-interfaces.html\n",
    "```\n",
    "YARN    http://$EMR_MASTER_NODE:8088/\n",
    "HDFS    http://$EMR_MASTER_NODE:50070/\n",
    "HUE     http://$EMR_MASTER_NODE:8888/\n",
    "GANGLIA http://$EMR_MASTER_NODE/ganglia/\n",
    "```\n",
    "**Don't forget to activate FoxyProxy**\n"
   ]
  },
  {
   "cell_type": "markdown",
   "metadata": {},
   "source": [
    "## EMR Spark\n",
    "\n",
    "EC2 / Autoscaling events --> Lambda function --> Firehose --> S3 --> Spark Streaming\n",
    "* http://fr.slideshare.net/JulienSIMON5/using-amazon-cloudwatch-events-aws-lambda-and-spark-streaming-to-process-ec2-events\n",
    "* https://www.youtube.com/watch?v=yBWVN_iaHvQ\n",
    "* https://github.com/juliensimon/aws/blob/master/sparkStreamingFromS3/stream.scala \n",
    "\n",
    "SSH access to master node:\n",
    "```\n",
    "ssh -i ~/.ssh/emr.pemhadoop@$EMR_MASTER_NODE\n",
    "```\n",
    "\n",
    "** Check that AWS credentials and bucket name are ok. **\n",
    "    \n",
    "Launch spark-shell and load program:\n",
    "```\n",
    "spark-shell\n",
    ":load stream.scala\n",
    "```\n",
    "\n",
    "Start some EC2 instances :)"
   ]
  },
  {
   "cell_type": "code",
   "execution_count": null,
   "metadata": {
    "collapsed": true
   },
   "outputs": [],
   "source": []
  }
 ],
 "metadata": {
  "anaconda-cloud": {},
  "kernelspec": {
   "display_name": "Python [default]",
   "language": "python",
   "name": "python2"
  },
  "language_info": {
   "codemirror_mode": {
    "name": "ipython",
    "version": 2
   },
   "file_extension": ".py",
   "mimetype": "text/x-python",
   "name": "python",
   "nbconvert_exporter": "python",
   "pygments_lexer": "ipython2",
   "version": "2.7.12"
  }
 },
 "nbformat": 4,
 "nbformat_minor": 1
}
