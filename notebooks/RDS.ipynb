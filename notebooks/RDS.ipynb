{
 "cells": [
  {
   "cell_type": "markdown",
   "metadata": {},
   "source": [
    "## Create an RDS instance\n",
    "\n",
    "\n",
    "First, we need to create a Security Group allowing incoming connections to port 3306 (the default MySQL port).\n",
    "\n",
    "https://boto3.readthedocs.io/en/latest/reference/services/ec2.html#EC2.Client.create_security_group\n",
    "https://boto3.readthedocs.io/en/latest/reference/services/ec2.html#EC2.Client.authorize_security_group_ingress\n",
    "\n",
    "Then, we launch an RDS MySQL instance.\n",
    "\n",
    "https://boto3.readthedocs.io/en/latest/reference/services/rds.html#RDS.Client.create_db_instance\n",
    "\n",
    "**Make sure to use the 'db.t2.micro' instance class to stay within the free tier.**"
   ]
  },
  {
   "cell_type": "code",
   "execution_count": null,
   "metadata": {
    "collapsed": false
   },
   "outputs": [],
   "source": [
    "import boto3\n",
    "\n",
    "ec2 = boto3.client('ec2', region_name='eu-west-1')\n",
    "response = ec2.create_security_group(GroupName='meetupdbsg',Description='SG for ML Meetup')\n",
    "sgid = response['GroupId']\n",
    "ec2.authorize_security_group_ingress(GroupId=sgid,IpProtocol='tcp',CidrIp='0.0.0.0/0',FromPort=3306,ToPort=3306)\n",
    "\n",
    "rds_client = boto3.client('rds', region_name='eu-west-1')\n",
    "rds_client.create_db_instance(\n",
    "    DBName='meetupdb', DBInstanceIdentifier='meetuprdsinstance', \n",
    "    Engine='mysql', EngineVersion='5.7.11', DBInstanceClass='db.t2.micro', AllocatedStorage=8,\n",
    "    MasterUsername='julien', MasterUserPassword='julienjulien',\n",
    "    VpcSecurityGroupIds=[sgid])\n"
   ]
  },
  {
   "cell_type": "markdown",
   "metadata": {},
   "source": [
    "Let's vizualize some properties of our instances. Once it's in the 'available' state, we'll be able to connect to it."
   ]
  },
  {
   "cell_type": "code",
   "execution_count": null,
   "metadata": {
    "collapsed": false
   },
   "outputs": [],
   "source": [
    "import boto3\n",
    "\n",
    "rds_client = boto3.client('rds', region_name='eu-west-1')\n",
    "instances = rds_client.describe_db_instances()\n",
    "for i in instances['DBInstances']:\n",
    "    #print i\n",
    "    print 'Name: ' + i['DBInstanceIdentifier']\n",
    "    print 'Status: ' + i['DBInstanceStatus']\n",
    "    print 'Endpoint: ' + i['Endpoint']['Address']\n",
    "    print 'Port: ' + str(i['Endpoint']['Port'])\n",
    "    print\n"
   ]
  },
  {
   "cell_type": "markdown",
   "metadata": {},
   "source": [
    "Let's connect to our instance, for example with the standard 'mysql' client:\n",
    "\n",
    "```\n",
    "$ mysql -h $ENDPOINT -u julien -p\n",
    "Enter password:\n",
    "Welcome to the MySQL monitor.  Commands end with ; or \\g.\n",
    "Your MySQL connection id is 16\n",
    "Server version: 5.7.11-log MySQL Community Server (GPL)\n",
    "\n",
    "Copyright (c) 2000, 2016, Oracle and/or its affiliates. All rights reserved.\n",
    "\n",
    "Oracle is a registered trademark of Oracle Corporation and/or its\n",
    "affiliates. Other names may be trademarks of their respective\n",
    "owners.\n",
    "\n",
    "Type 'help;' or '\\h' for help. Type '\\c' to clear the current input statement.\n",
    "\n",
    "mysql>\n",
    "mysql>\n",
    "mysql> show databases;\n",
    "+--------------------+\n",
    "| Database           |\n",
    "+--------------------+\n",
    "| information_schema |\n",
    "| innodb             |\n",
    "| meetupdb           |\n",
    "| mysql              |\n",
    "| performance_schema |\n",
    "| sys                |\n",
    "+--------------------+\n",
    "6 rows in set (0,06 sec)\n",
    "```\n",
    "\n",
    "\n"
   ]
  },
  {
   "cell_type": "markdown",
   "metadata": {
    "collapsed": true
   },
   "source": [
    "## Delete an RDS instance\n",
    "\n",
    "When you're done working with your instance, don't forget to delete it. **Be careful, there is no confirmation!**\n",
    "\n",
    "You can use the describe_db_instances() script above to check that your instance is being deleted."
   ]
  },
  {
   "cell_type": "code",
   "execution_count": null,
   "metadata": {
    "collapsed": false
   },
   "outputs": [],
   "source": [
    "import boto3\n",
    "\n",
    "rds_client = boto3.client('rds', region_name='eu-west-1')\n",
    "response = rds_client.delete_db_instance(DBInstanceIdentifier='meetuprdsinstance',SkipFinalSnapshot=True)\n",
    "print response\n"
   ]
  }
 ],
 "metadata": {
  "anaconda-cloud": {},
  "kernelspec": {
   "display_name": "Python [default]",
   "language": "python",
   "name": "python2"
  },
  "language_info": {
   "codemirror_mode": {
    "name": "ipython",
    "version": 2
   },
   "file_extension": ".py",
   "mimetype": "text/x-python",
   "name": "python",
   "nbconvert_exporter": "python",
   "pygments_lexer": "ipython2",
   "version": "2.7.12"
  }
 },
 "nbformat": 4,
 "nbformat_minor": 1
}
