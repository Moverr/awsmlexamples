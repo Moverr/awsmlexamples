{
 "cells": [
  {
   "cell_type": "markdown",
   "metadata": {},
   "source": [
    "MXNet setup:\n",
    "\n",
    "http://mxnet.io/get_started/setup.html\n",
    "\n",
    "Deep Learning AMI:\n",
    "\n",
    "https://aws.amazon.com/marketplace/pp/B01M0AXXQB\n",
    "\n",
    "ssh access to GPU instance:\n",
    "```\n",
    "EXPORT GPU_INSTANCE=ec2-54-161-177-230.compute-1.amazonaws.com\n",
    "ssh -i ~/.ssh/gpu.pem ec2-user@$GPU_INSTANCE\n",
    "```\n",
    "\n",
    "Start Jupyter\n",
    "```\n",
    "jupyter notebook --ip 0.0.0.0\n",
    "```\n",
    "\n",
    "Jupyter web app:\n",
    "```\n",
    "http://$GPU_INSTANCE:8888/\n",
    "```"
   ]
  },
  {
   "cell_type": "code",
   "execution_count": null,
   "metadata": {
    "collapsed": true
   },
   "outputs": [],
   "source": []
  }
 ],
 "metadata": {
  "anaconda-cloud": {},
  "kernelspec": {
   "display_name": "Python [default]",
   "language": "python",
   "name": "python2"
  },
  "language_info": {
   "codemirror_mode": {
    "name": "ipython",
    "version": 2
   },
   "file_extension": ".py",
   "mimetype": "text/x-python",
   "name": "python",
   "nbconvert_exporter": "python",
   "pygments_lexer": "ipython2",
   "version": "2.7.12"
  }
 },
 "nbformat": 4,
 "nbformat_minor": 1
}
