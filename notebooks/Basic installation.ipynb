{
 "cells": [
  {
   "cell_type": "markdown",
   "metadata": {},
   "source": [
    "## Create an AWS account\n",
    "\n",
    "\n",
    "There's a whole lot of AWS that you can use for free for the first 12 months: https://aws.amazon.com/free\n"
   ]
  },
  {
   "cell_type": "markdown",
   "metadata": {
    "nbpresent": {
     "id": "68953089-b5c3-409c-abce-d68840b676a7"
    }
   },
   "source": [
    "## Install the Python SDK aka boto3\n",
    "\n",
    "boto3 is the AWS SDK for Python:\n",
    "https://github.com/boto/boto3\n",
    "https://boto3.readthedocs.io\n",
    "\n",
    "```$ pip install --upgrade pip\n",
    "$ pip install boto3```\n",
    "\n",
    "Let's run a couple of call to make sure it's properly installed."
   ]
  },
  {
   "cell_type": "markdown",
   "metadata": {
    "nbpresent": {
     "id": "cf04a118-2d72-4c19-b6ea-0c3dc1d7ee70"
    }
   },
   "source": [
    "## Install the AWS CLI\n",
    "\n",
    "https://docs.aws.amazon.com/cli/latest/userguide/installing.html\n",
    "\n",
    "If you're using 'pip'(https://pip.pypa.io):\n",
    "```\n",
    "$ pip install awscli\n",
    "$ pip install --upgrade pip\n",
    "```\n",
    "\n",
    "For MacOS users, the best solution is to use Homebrew (http://brew.sh/):\n",
    "\n",
    "```$ brew install awscli\n",
    "$ brew upgrade awscli```"
   ]
  },
  {
   "cell_type": "markdown",
   "metadata": {
    "nbpresent": {
     "id": "5b733054-633d-416a-8594-f01b60d085be"
    }
   },
   "source": [
    "## Configure the AWS CLI\n",
    "\n",
    "You'll need the access and secret keys of a valid IAM user.\n",
    "\n",
    "```\n",
    "$ aws configure\n",
    "```\n",
    "Credentials are stored in ~/.aws/credentials. Multiple named profiles can stored and later used with the --profile option.\n"
   ]
  },
  {
   "cell_type": "markdown",
   "metadata": {
    "nbpresent": {
     "id": "758c5f9c-a046-4220-8308-275e70ed8d15"
    }
   },
   "source": [
    "Check the AWS CLI\n",
    "\n",
    "Let's run some quick calls:\n",
    "\n",
    "```$ aws s3 help\n",
    "$ aws s3 mb help\n",
    "$ aws s3 mb s3://lastname-firstname-myfirstbucket\n",
    "$ aws s3 ls\n",
    "$ aws s3 rb s3://lastname-firstname-myfirstbucket```"
   ]
  },
  {
   "cell_type": "markdown",
   "metadata": {
    "nbpresent": {
     "id": "08ac1fd2-0c2a-441d-98cf-1638718a9744"
    }
   },
   "source": [
    "## Optional: install aws-shell\n",
    "\n",
    "aws-shell is an integrated shell for working with the AWS CLI:\n",
    "https://github.com/awslabs/aws-shell\n",
    "\n",
    "```\n",
    "$ pip install aws-shell\n",
    "```"
   ]
  },
  {
   "cell_type": "markdown",
   "metadata": {},
   "source": [
    "## Running our first boto3 script\n",
    "\n",
    "https://boto3.readthedocs.io/en/latest/reference/services/s3.html"
   ]
  },
  {
   "cell_type": "code",
   "execution_count": null,
   "metadata": {
    "collapsed": false,
    "nbpresent": {
     "id": "4743a106-0ab9-4851-9c86-3c625b3e8ce4"
    },
    "scrolled": true
   },
   "outputs": [],
   "source": [
    "import boto3\n",
    "\n",
    "s3_client = boto3.client('s3')\n",
    "s3_client.create_bucket(Bucket='lastname-firstname-mysecondbucket')\n",
    "buckets = s3_client.list_buckets()\n",
    "print buckets\n",
    "s3_client.delete_bucket(Bucket='lastname-firstname-mysecondbucket')"
   ]
  },
  {
   "cell_type": "markdown",
   "metadata": {
    "collapsed": true
   },
   "source": [
    "You're in the cloud, baby. Yeah!"
   ]
  }
 ],
 "metadata": {
  "anaconda-cloud": {},
  "kernelspec": {
   "display_name": "Python [default]",
   "language": "python",
   "name": "python2"
  },
  "language_info": {
   "codemirror_mode": {
    "name": "ipython",
    "version": 2
   },
   "file_extension": ".py",
   "mimetype": "text/x-python",
   "name": "python",
   "nbconvert_exporter": "python",
   "pygments_lexer": "ipython2",
   "version": "2.7.12"
  }
 },
 "nbformat": 4,
 "nbformat_minor": 1
}
